{
    "cells": [
        {
            "cell_type": "markdown",
            "metadata": {
                "collapsed": true
            },
            "source": "# Capstone Project - The Battle of the Neighborhoods\n### By Altaf Jamalia"
        },
        {
            "cell_type": "markdown",
            "metadata": {},
            "source": "## Table of contents\n* [Introduction: Business Problem](#introduction)\n* [Data](#data) "
        },
        {
            "cell_type": "markdown",
            "metadata": {},
            "source": "\n\n## Introduction: Business Problem <a name=\"introduction\"></a>"
        },
        {
            "cell_type": "markdown",
            "metadata": {},
            "source": "Mr.John currently stays in **Downtown Toronto** with his family and now has a good job opportunity in the **United States of America**. He needs to move to **New York City** with his family.\n\nMr.John has never been to New York City and is looking to us to help him find a **good location within New York for him and his family to settle down**. Mr.John and his family are accustomed to the busy downtown life with good options and is looking for a similar location in New York.\n\nWe will use Data Science to generate a few most promising neighborhoods based on this criteria so that Mr.John can take an informed decision and move to New York, USA. "
        },
        {
            "cell_type": "markdown",
            "metadata": {},
            "source": "## Data <a name=\"data\"></a>"
        },
        {
            "cell_type": "markdown",
            "metadata": {},
            "source": "Mr.John has made it clear that his family enjoys the Downtown life, so based on this criteria, we are going look at the locations in New York which has:\n* Good Downtown neighborhood that has good Options in Restaurants (any type of restaurant), Shopping, Schooling \n* Distance of neighborhood from city center\n\nFollowing data sources will be needed to extract/generate the required information:\n* New York Neighborhood data available from **Coursera**\n* number of restaurants and their type, Shopping, Schools in selected neighborhoods in New York will be obtained using **Foursquare API**\n* coordinate of New York will be obtained using **Google Maps API geocoding** "
        }
    ],
    "metadata": {
        "kernelspec": {
            "display_name": "Python 3.6",
            "language": "python",
            "name": "python3"
        },
        "language_info": {
            "codemirror_mode": {
                "name": "ipython",
                "version": 3
            },
            "file_extension": ".py",
            "mimetype": "text/x-python",
            "name": "python",
            "nbconvert_exporter": "python",
            "pygments_lexer": "ipython3",
            "version": "3.6.9"
        }
    },
    "nbformat": 4,
    "nbformat_minor": 1
}